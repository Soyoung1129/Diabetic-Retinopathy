{
 "cells": [
  {
   "cell_type": "code",
   "execution_count": 1,
   "metadata": {
    "collapsed": true
   },
   "outputs": [],
   "source": [
    "# Import required libraries\n",
    "import pandas as pd\n",
    "import os, sys\n",
    "from shutil import copyfile"
   ]
  },
  {
   "cell_type": "code",
   "execution_count": 2,
   "metadata": {},
   "outputs": [
    {
     "data": {
      "text/html": [
       "<div>\n",
       "<style>\n",
       "    .dataframe thead tr:only-child th {\n",
       "        text-align: right;\n",
       "    }\n",
       "\n",
       "    .dataframe thead th {\n",
       "        text-align: left;\n",
       "    }\n",
       "\n",
       "    .dataframe tbody tr th {\n",
       "        vertical-align: top;\n",
       "    }\n",
       "</style>\n",
       "<table border=\"1\" class=\"dataframe\">\n",
       "  <thead>\n",
       "    <tr style=\"text-align: right;\">\n",
       "      <th></th>\n",
       "      <th>image</th>\n",
       "      <th>level</th>\n",
       "    </tr>\n",
       "  </thead>\n",
       "  <tbody>\n",
       "    <tr>\n",
       "      <th>0</th>\n",
       "      <td>10_left</td>\n",
       "      <td>0</td>\n",
       "    </tr>\n",
       "    <tr>\n",
       "      <th>1</th>\n",
       "      <td>10_right</td>\n",
       "      <td>0</td>\n",
       "    </tr>\n",
       "    <tr>\n",
       "      <th>2</th>\n",
       "      <td>13_left</td>\n",
       "      <td>0</td>\n",
       "    </tr>\n",
       "    <tr>\n",
       "      <th>3</th>\n",
       "      <td>13_right</td>\n",
       "      <td>0</td>\n",
       "    </tr>\n",
       "    <tr>\n",
       "      <th>4</th>\n",
       "      <td>15_left</td>\n",
       "      <td>1</td>\n",
       "    </tr>\n",
       "  </tbody>\n",
       "</table>\n",
       "</div>"
      ],
      "text/plain": [
       "      image  level\n",
       "0   10_left      0\n",
       "1  10_right      0\n",
       "2   13_left      0\n",
       "3  13_right      0\n",
       "4   15_left      1"
      ]
     },
     "execution_count": 2,
     "metadata": {},
     "output_type": "execute_result"
    }
   ],
   "source": [
    "# Read the dataframe\n",
    "df = pd.read_csv('../data/trainLabels.csv')\n",
    "# Show a few rows\n",
    "df.head()"
   ]
  },
  {
   "cell_type": "code",
   "execution_count": 3,
   "metadata": {
    "collapsed": true
   },
   "outputs": [],
   "source": [
    "# Source Directory\n",
    "src_dir = '/home/cc/diabetic_Aug_2017/data/resized_preprocess/'\n",
    "train_dir = os.listdir(src_dir+\"train_512\")"
   ]
  },
  {
   "cell_type": "code",
   "execution_count": 4,
   "metadata": {},
   "outputs": [
    {
     "name": "stdout",
     "output_type": "stream",
     "text": [
      "Extension of files: .tiff\n"
     ]
    }
   ],
   "source": [
    "# Find the extension of image data\n",
    "ext = \".\" + train_dir[0].split('.')[-1]\n",
    "print(\"Extension of files:\", ext)"
   ]
  },
  {
   "cell_type": "code",
   "execution_count": 5,
   "metadata": {},
   "outputs": [
    {
     "data": {
      "text/plain": [
       "35127"
      ]
     },
     "execution_count": 5,
     "metadata": {},
     "output_type": "execute_result"
    }
   ],
   "source": [
    "# Number of training files\n",
    "len(train_dir)"
   ]
  },
  {
   "cell_type": "code",
   "execution_count": 6,
   "metadata": {},
   "outputs": [],
   "source": [
    "# Make final dir to store classwise images\n",
    "try:\n",
    "    os.mkdir(src_dir + \"train_512_classwise\")\n",
    "except FileExistsError:\n",
    "    pass"
   ]
  },
  {
   "cell_type": "code",
   "execution_count": 8,
   "metadata": {},
   "outputs": [
    {
     "name": "stdout",
     "output_type": "stream",
     "text": [
      "/home/cc/diabetic_Aug_2017/data/resized_preprocess/train_512_classwise/class0/\n",
      "/home/cc/diabetic_Aug_2017/data/resized_preprocess/train_512/10_left.tiff /home/cc/diabetic_Aug_2017/data/resized_preprocess/train_512_classwise/class0/10_left.tiff\n",
      "/home/cc/diabetic_Aug_2017/data/resized_preprocess/train_512_classwise/class0/\n",
      "/home/cc/diabetic_Aug_2017/data/resized_preprocess/train_512/10_right.tiff /home/cc/diabetic_Aug_2017/data/resized_preprocess/train_512_classwise/class0/10_right.tiff\n",
      "/home/cc/diabetic_Aug_2017/data/resized_preprocess/train_512_classwise/class0/\n",
      "/home/cc/diabetic_Aug_2017/data/resized_preprocess/train_512/13_left.tiff /home/cc/diabetic_Aug_2017/data/resized_preprocess/train_512_classwise/class0/13_left.tiff\n",
      "/home/cc/diabetic_Aug_2017/data/resized_preprocess/train_512_classwise/class0/\n",
      "/home/cc/diabetic_Aug_2017/data/resized_preprocess/train_512/13_right.tiff /home/cc/diabetic_Aug_2017/data/resized_preprocess/train_512_classwise/class0/13_right.tiff\n",
      "/home/cc/diabetic_Aug_2017/data/resized_preprocess/train_512_classwise/class1/\n",
      "/home/cc/diabetic_Aug_2017/data/resized_preprocess/train_512/15_left.tiff /home/cc/diabetic_Aug_2017/data/resized_preprocess/train_512_classwise/class1/15_left.tiff\n"
     ]
    }
   ],
   "source": [
    "for eachrow in df['image'].head():\n",
    "    #print(eachrow + ext)\n",
    "    if eachrow + ext in train_dir:\n",
    "        location_to_save = src_dir + \"train_512_classwise/class\"+str(int(df[df['image']==eachrow]['level'])) + \"/\"\n",
    "        print(location_to_save)\n",
    "        # Make directory if it does not exist already\n",
    "        try:\n",
    "            os.mkdir(location_to_save)\n",
    "        except FileExistsError:\n",
    "            pass\n",
    "        # Move file from train folder to 'location_to_save'\n",
    "        src = src_dir + \"train_512/\" + eachrow + ext\n",
    "        dst = location_to_save + eachrow + ext\n",
    "        print(src, dst)\n",
    "        #copyfile(src, dst)"
   ]
  },
  {
   "cell_type": "code",
   "execution_count": null,
   "metadata": {
    "collapsed": true
   },
   "outputs": [],
   "source": [
    "# CHECK DATAFRAME FOR TRAIN LABELS AND NUMBER OF EACH CLASSES"
   ]
  },
  {
   "cell_type": "code",
   "execution_count": 19,
   "metadata": {},
   "outputs": [
    {
     "data": {
      "text/plain": [
       "0    25810\n",
       "2     5292\n",
       "1     2443\n",
       "3      873\n",
       "4      708\n",
       "Name: level, dtype: int64"
      ]
     },
     "execution_count": 19,
     "metadata": {},
     "output_type": "execute_result"
    }
   ],
   "source": [
    "df['level'].value_counts()"
   ]
  },
  {
   "cell_type": "code",
   "execution_count": 21,
   "metadata": {},
   "outputs": [
    {
     "name": "stdout",
     "output_type": "stream",
     "text": [
      "25810\n",
      "2443\n",
      "5292\n",
      "873\n",
      "708\n"
     ]
    }
   ],
   "source": [
    "%%bash\n",
    "ls /home/cc/diabetic_Aug_2017/data/resized_preprocess/train_512_classwise/class0 | wc -l\n",
    "ls /home/cc/diabetic_Aug_2017/data/resized_preprocess/train_512_classwise/class1 | wc -l\n",
    "ls /home/cc/diabetic_Aug_2017/data/resized_preprocess/train_512_classwise/class2 | wc -l\n",
    "ls /home/cc/diabetic_Aug_2017/data/resized_preprocess/train_512_classwise/class3 | wc -l\n",
    "ls /home/cc/diabetic_Aug_2017/data/resized_preprocess/train_512_classwise/class4 | wc -l"
   ]
  },
  {
   "cell_type": "code",
   "execution_count": null,
   "metadata": {
    "collapsed": true,
    "scrolled": true
   },
   "outputs": [],
   "source": [
    "#DONE."
   ]
  }
 ],
 "metadata": {
  "kernelspec": {
   "display_name": "Python 3",
   "language": "python",
   "name": "python3"
  },
  "language_info": {
   "codemirror_mode": {
    "name": "ipython",
    "version": 3
   },
   "file_extension": ".py",
   "mimetype": "text/x-python",
   "name": "python",
   "nbconvert_exporter": "python",
   "pygments_lexer": "ipython3",
   "version": "3.5.2"
  }
 },
 "nbformat": 4,
 "nbformat_minor": 2
}
